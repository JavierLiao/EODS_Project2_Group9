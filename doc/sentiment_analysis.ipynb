{
 "cells": [
  {
   "cell_type": "markdown",
   "id": "d0f82321",
   "metadata": {},
   "source": [
    "## Environment"
   ]
  },
  {
   "cell_type": "code",
   "execution_count": 1,
   "id": "8872e3ba",
   "metadata": {},
   "outputs": [],
   "source": [
    "import pandas as pd\n",
    "import numpy as np\n",
    "import matplotlib.pyplot as plt\n",
    "import seaborn as sns\n",
    "from nrclex import NRCLex\n",
    "\n",
    "import warnings\n",
    "warnings.filterwarnings('ignore')\n",
    "\n",
    "%matplotlib inline\n",
    "#%config InlineBackend.figure_format = 'svg'"
   ]
  },
  {
   "cell_type": "markdown",
   "id": "1effa774",
   "metadata": {},
   "source": [
    "## Data"
   ]
  },
  {
   "cell_type": "code",
   "execution_count": 2,
   "id": "a516eaa9",
   "metadata": {},
   "outputs": [
    {
     "data": {
      "text/html": [
       "<div>\n",
       "<style scoped>\n",
       "    .dataframe tbody tr th:only-of-type {\n",
       "        vertical-align: middle;\n",
       "    }\n",
       "\n",
       "    .dataframe tbody tr th {\n",
       "        vertical-align: top;\n",
       "    }\n",
       "\n",
       "    .dataframe thead th {\n",
       "        text-align: right;\n",
       "    }\n",
       "</style>\n",
       "<table border=\"1\" class=\"dataframe\">\n",
       "  <thead>\n",
       "    <tr style=\"text-align: right;\">\n",
       "      <th></th>\n",
       "      <th>Unnamed: 0</th>\n",
       "      <th>OriginalTweet</th>\n",
       "      <th>Sentiment</th>\n",
       "      <th>Tweet_filtered</th>\n",
       "      <th>Word_list</th>\n",
       "      <th>Senten_list</th>\n",
       "    </tr>\n",
       "  </thead>\n",
       "  <tbody>\n",
       "    <tr>\n",
       "      <th>0</th>\n",
       "      <td>1</td>\n",
       "      <td>advice Talk to your neighbours family to excha...</td>\n",
       "      <td>Positive</td>\n",
       "      <td>advice talk neighbour family exchange phone nu...</td>\n",
       "      <td>['advice', 'talk', 'neighbour', 'family', 'exc...</td>\n",
       "      <td>['advice talk to your neighbours family to exc...</td>\n",
       "    </tr>\n",
       "    <tr>\n",
       "      <th>1</th>\n",
       "      <td>2</td>\n",
       "      <td>Coronavirus Australia: Woolworths to give elde...</td>\n",
       "      <td>Positive</td>\n",
       "      <td>coronavirus australia woolworth give elderly d...</td>\n",
       "      <td>['coronavirus', 'australia', 'woolworth', 'giv...</td>\n",
       "      <td>['coronavirus australia: woolworths to give el...</td>\n",
       "    </tr>\n",
       "    <tr>\n",
       "      <th>2</th>\n",
       "      <td>3</td>\n",
       "      <td>My food stock is not the only one which is emp...</td>\n",
       "      <td>Positive</td>\n",
       "      <td>food stock one empty please dont panic enough ...</td>\n",
       "      <td>['food', 'stock', 'one', 'empty', 'please', 'd...</td>\n",
       "      <td>['my food stock is not the only one which is e...</td>\n",
       "    </tr>\n",
       "    <tr>\n",
       "      <th>3</th>\n",
       "      <td>4</td>\n",
       "      <td>Me, ready to go at supermarket during the #COV...</td>\n",
       "      <td>Extremely Negative</td>\n",
       "      <td>ready go supermarket covid outbreak im paranoi...</td>\n",
       "      <td>['ready', 'go', 'supermarket', 'covid', 'outbr...</td>\n",
       "      <td>['me, ready to go at supermarket during the #c...</td>\n",
       "    </tr>\n",
       "    <tr>\n",
       "      <th>4</th>\n",
       "      <td>5</td>\n",
       "      <td>As news of the regionÂs first confirmed COVID...</td>\n",
       "      <td>Positive</td>\n",
       "      <td>news regionâ  first confirmed covid case came...</td>\n",
       "      <td>['news', 'regionâ', '\\x92', 'first', 'confirme...</td>\n",
       "      <td>['as news of the regionâ\\x92s first confirmed ...</td>\n",
       "    </tr>\n",
       "  </tbody>\n",
       "</table>\n",
       "</div>"
      ],
      "text/plain": [
       "  Unnamed: 0                                      OriginalTweet  \\\n",
       "0          1  advice Talk to your neighbours family to excha...   \n",
       "1          2  Coronavirus Australia: Woolworths to give elde...   \n",
       "2          3  My food stock is not the only one which is emp...   \n",
       "3          4  Me, ready to go at supermarket during the #COV...   \n",
       "4          5  As news of the regionÂs first confirmed COVID...   \n",
       "\n",
       "            Sentiment                                     Tweet_filtered  \\\n",
       "0            Positive  advice talk neighbour family exchange phone nu...   \n",
       "1            Positive  coronavirus australia woolworth give elderly d...   \n",
       "2            Positive  food stock one empty please dont panic enough ...   \n",
       "3  Extremely Negative  ready go supermarket covid outbreak im paranoi...   \n",
       "4            Positive  news regionâ  first confirmed covid case came...   \n",
       "\n",
       "                                           Word_list  \\\n",
       "0  ['advice', 'talk', 'neighbour', 'family', 'exc...   \n",
       "1  ['coronavirus', 'australia', 'woolworth', 'giv...   \n",
       "2  ['food', 'stock', 'one', 'empty', 'please', 'd...   \n",
       "3  ['ready', 'go', 'supermarket', 'covid', 'outbr...   \n",
       "4  ['news', 'regionâ', '\\x92', 'first', 'confirme...   \n",
       "\n",
       "                                         Senten_list  \n",
       "0  ['advice talk to your neighbours family to exc...  \n",
       "1  ['coronavirus australia: woolworths to give el...  \n",
       "2  ['my food stock is not the only one which is e...  \n",
       "3  ['me, ready to go at supermarket during the #c...  \n",
       "4  ['as news of the regionâ\\x92s first confirmed ...  "
      ]
     },
     "execution_count": 2,
     "metadata": {},
     "output_type": "execute_result"
    }
   ],
   "source": [
    "df = pd.read_csv('../data/Corona_NLP_filtered.csv')\n",
    "df = df.dropna()\n",
    "df.head()"
   ]
  },
  {
   "cell_type": "code",
   "execution_count": 110,
   "id": "8c91bda3",
   "metadata": {},
   "outputs": [
    {
     "data": {
      "text/plain": [
       "(44249, 6)"
      ]
     },
     "execution_count": 110,
     "metadata": {},
     "output_type": "execute_result"
    }
   ],
   "source": [
    "df.shape"
   ]
  },
  {
   "cell_type": "code",
   "execution_count": 113,
   "id": "8d5e20de",
   "metadata": {},
   "outputs": [
    {
     "data": {
      "text/plain": [
       "Positive              12240\n",
       "Negative              10852\n",
       "Neutral                7902\n",
       "Extremely Positive     7204\n",
       "Extremely Negative     6051\n",
       "Name: Sentiment, dtype: int64"
      ]
     },
     "execution_count": 113,
     "metadata": {},
     "output_type": "execute_result"
    }
   ],
   "source": [
    "df.Sentiment.value_counts()"
   ]
  },
  {
   "cell_type": "code",
   "execution_count": 3,
   "id": "790bcd7f",
   "metadata": {
    "scrolled": true
   },
   "outputs": [],
   "source": [
    "df.Word_list = df.Word_list.apply(eval)"
   ]
  },
  {
   "cell_type": "markdown",
   "id": "588d6e01",
   "metadata": {},
   "source": [
    "## Sentiment Analysis\n",
    "\n",
    "### EDA"
   ]
  },
  {
   "cell_type": "markdown",
   "id": "d17156a6",
   "metadata": {},
   "source": [
    "#### NCR Lexicon(6 emotions)\n",
    "\n",
    "trust, anticipation, joy, surprise, anger, disgust, fear, sadness "
   ]
  },
  {
   "cell_type": "code",
   "execution_count": 51,
   "id": "d5061c26",
   "metadata": {},
   "outputs": [
    {
     "data": {
      "image/png": "[encoded data removed]",
      "text/plain": [
       "<Figure size 864x36 with 1 Axes>"
      ]
     },
     "metadata": {
      "needs_background": "light"
     },
     "output_type": "display_data"
    }
   ],
   "source": [
    "emotions_color = {\"trust\" : \"lightpink\", \"anticipation\" : \"yellow\", \"joy\" : \"forestgreen\", \"surprise\" : \"gold\", \n",
    "                 \"anger\" : \"firebrick\", \"disgust\" : \"burlywood\", \"fear\" : \"midnightblue\", \"sadness\" : \"lightsteelblue\"}\n",
    "\n",
    "plt.figure(figsize=(12,0.5))\n",
    "my_bars = plt.bar(list(emotions_color),8*[1],color=emotions_color.values())\n",
    "for i,bar in enumerate(my_bars):\n",
    "    plt.gca().text(bar.get_x() + bar.get_width()/2, bar.get_height()+0.2, list(emotions_color)[i],\n",
    "                 ha='center', fontsize=12)\n",
    "plt.axis(\"off\")\n",
    "plt.show();"
   ]
  },
  {
   "cell_type": "code",
   "execution_count": 111,
   "id": "634d5f09",
   "metadata": {},
   "outputs": [],
   "source": [
    "## Concat every 10 rows\n",
    "\n",
    "i = 0\n",
    "sentences = []\n",
    "while i < df.shape[0]:\n",
    "    sentences.append(' '.join(df.Tweet_filtered.iloc[i:i+10]))\n",
    "    i = i+10\n",
    "    \n",
    "# Emotions\n",
    "sequence_of_emotions_level = []\n",
    "sequence_of_emotions_color = []\n",
    "emotion_list = []\n",
    "\n",
    "for sentence in sentences:\n",
    "    emotions = NRCLex(sentence)\n",
    "    emotion_frequencies = emotions.affect_frequencies\n",
    "    \n",
    "    emotion_frequencies.pop(\"positive\",None)\n",
    "    emotion_frequencies.pop(\"negative\",None)\n",
    "    top_emotion = max(emotion_frequencies,key=emotion_frequencies.get)\n",
    "    \n",
    "    emotion_list.append(top_emotion)\n",
    "    sequence_of_emotions_level.append(emotion_frequencies[top_emotion])\n",
    "    sequence_of_emotions_color.append(emotions_color[top_emotion])"
   ]
  },
  {
   "cell_type": "code",
   "execution_count": 112,
   "id": "ad13e897",
   "metadata": {},
   "outputs": [
    {
     "data": {
      "image/png": "[encoded data removed]",
      "text/plain": [
       "<Figure size 1440x432 with 1 Axes>"
      ]
     },
     "metadata": {
      "needs_background": "light"
     },
     "output_type": "display_data"
    }
   ],
   "source": [
    "# plot\n",
    "font = {'fontsize':15, 'fontweight':'bold'}\n",
    "\n",
    "plt.figure(figsize=(20, 6))\n",
    "plt.bar(range(len(sentences)), sequence_of_emotions_level, color=sequence_of_emotions_color)\n",
    "frame1 = plt.gca()\n",
    "frame1.axis('off')\n",
    "plt.title('Emotions Distribution', fontdict=font)\n",
    "plt.show();"
   ]
  },
  {
   "cell_type": "code",
   "execution_count": 128,
   "id": "8f09d6dc",
   "metadata": {},
   "outputs": [
    {
     "data": {
      "image/png": "[encoded data removed]",
      "text/plain": [
       "<Figure size 720x432 with 1 Axes>"
      ]
     },
     "metadata": {
      "needs_background": "light"
     },
     "output_type": "display_data"
    }
   ],
   "source": [
    "font2 = {'fontsize':12, 'fontweight':'bold'}\n",
    "\n",
    "plt.figure(figsize=(10,6))\n",
    "sns.countplot(x = emotion_list, palette=list(emotions_color.values()), \n",
    "              order = list(emotions_color.keys()));\n",
    "plt.title('Emotions Barplot', fontdict=font);\n",
    "plt.xlabel('Emotion', fontdict=font2);\n",
    "plt.ylabel('Count', fontdict=font2);\n",
    "ax = plt.gca()\n",
    "ax.spines['top'].set_visible(False)\n",
    "ax.spines['right'].set_visible(False)\n",
    "plt.show();"
   ]
  },
  {
   "cell_type": "markdown",
   "id": "9823365a",
   "metadata": {},
   "source": [
    "#### Bing Liu Lexicon"
   ]
  },
  {
   "cell_type": "code",
   "execution_count": 55,
   "id": "e0746f1e",
   "metadata": {},
   "outputs": [],
   "source": [
    "from nltk.corpus import opinion_lexicon\n",
    "from nltk.tokenize import TweetTokenizer\n",
    "\n",
    "positive = set(opinion_lexicon.positive())\n",
    "negative = set(opinion_lexicon.negative())\n",
    "\n",
    "df['Positive'] = df.Word_list.apply(lambda x: list(positive.intersection(set(x))))\n",
    "df['Negative'] = df.Word_list.apply(lambda x: list(negative.intersection(set(x))))\n",
    "df['Sentiment_Score'] = df.apply(lambda x: len(x.Positive) - len(x.Negative), axis=1)\n",
    "\n",
    "sentiment_score = list(df.Sentiment_Score[df.Sentiment_Score != 0])"
   ]
  },
  {
   "cell_type": "code",
   "execution_count": 56,
   "id": "6dd5f803",
   "metadata": {},
   "outputs": [
    {
     "data": {
      "image/png": "[encoded data removed]",
      "text/plain": [
       "<Figure size 1080x360 with 1 Axes>"
      ]
     },
     "metadata": {
      "needs_background": "light"
     },
     "output_type": "display_data"
    }
   ],
   "source": [
    "font = {'fontsize':15, 'fontweight':'bold'}\n",
    "\n",
    "plt.figure(figsize=(15, 5))\n",
    "plt.bar(range(len(sentiment_score)), sentiment_score, color = 'royalblue')\n",
    "frame1 = plt.gca()\n",
    "frame1.axis('off')\n",
    "plt.title('Sentiment Distribution', fontdict=font)\n",
    "plt.show();"
   ]
  },
  {
   "cell_type": "code",
   "execution_count": 59,
   "id": "63932792",
   "metadata": {},
   "outputs": [],
   "source": [
    "#concat every 10 sentences\n",
    "word_list = []\n",
    "i = 0\n",
    "while i < df.shape[0]:\n",
    "    word_list.append(sum(df.Word_list[i:i+10].to_list(),[]))\n",
    "    i = i+10\n",
    "\n",
    "sentiment_score_10 = []\n",
    "for l in word_list:\n",
    "    score = 0\n",
    "    for word in l:\n",
    "        if word in positive:\n",
    "            score += 1\n",
    "        elif word in negative:\n",
    "            score -= 1\n",
    "        else:\n",
    "            continue\n",
    "    sentiment_score_10.append(score)"
   ]
  },
  {
   "cell_type": "code",
   "execution_count": 61,
   "id": "c2c171cb",
   "metadata": {},
   "outputs": [
    {
     "data": {
      "image/png": "[encoded data removed]",
      "text/plain": [
       "<Figure size 1080x360 with 1 Axes>"
      ]
     },
     "metadata": {
      "needs_background": "light"
     },
     "output_type": "display_data"
    }
   ],
   "source": [
    "font = {'fontsize':15, 'fontweight':'bold'}\n",
    "\n",
    "plt.figure(figsize=(15, 5))\n",
    "plt.bar(range(len(sentiment_score_10)), sentiment_score_10, color = 'royalblue')\n",
    "frame1 = plt.gca()\n",
    "frame1.axis('off')\n",
    "plt.title('Sentiment Distribution', fontdict=font)\n",
    "plt.show();"
   ]
  },
  {
   "cell_type": "code",
   "execution_count": 42,
   "id": "30f2edb5",
   "metadata": {},
   "outputs": [
    {
     "name": "stdout",
     "output_type": "stream",
     "text": [
      "Most positive sentence:\n",
      "@Tesco really impressed with tesco at haddington Scotland. Hand sanitizer available at entrance with opportunity to clean trolley handles. Staff polite friendly and giving sound guidance to shoppers to shop safely. Well done and thank you ?#staysafe #coro\n",
      "--------------------------------------------------\n",
      "Most negative sentence:\n",
      "23.3.2020:\r",
      "\r\n",
      "  Stock markets -- fall, falling, fell, fallen.\r",
      "\r\n",
      "  Oil prices  -- crash, crashing, crashed, crashed.\r",
      "\r\n",
      "  Finance  -- crush, crushing, crushed, crushed.\r",
      "\r\n",
      "  COVID-19   -- pierce, piercing, pierced, pierced.\r",
      "\r\n",
      "  World people  -- panic, panicking, panicked, panicked..\n"
     ]
    }
   ],
   "source": [
    "most_pos = df.Sentiment_Score.argmax()\n",
    "most_neg = df.Sentiment_Score.argmin()\n",
    "print('Most positive sentence:')\n",
    "print(df.OriginalTweet.iloc[most_pos])\n",
    "print('-'*50)\n",
    "print('Most negative sentence:')\n",
    "print(df.OriginalTweet.iloc[most_neg])"
   ]
  },
  {
   "cell_type": "markdown",
   "id": "3cfb3174",
   "metadata": {},
   "source": [
    "### Classification"
   ]
  },
  {
   "cell_type": "code",
   "execution_count": 4,
   "id": "312e7442",
   "metadata": {},
   "outputs": [
    {
     "data": {
      "text/plain": [
       "Positive              12240\n",
       "Negative              10852\n",
       "Neutral                7902\n",
       "Extremely Positive     7204\n",
       "Extremely Negative     6051\n",
       "Name: Sentiment, dtype: int64"
      ]
     },
     "execution_count": 4,
     "metadata": {},
     "output_type": "execute_result"
    }
   ],
   "source": [
    "df.Sentiment.value_counts()"
   ]
  },
  {
   "cell_type": "code",
   "execution_count": 8,
   "id": "cf5217e2",
   "metadata": {},
   "outputs": [
    {
     "name": "stdout",
     "output_type": "stream",
     "text": [
      "1    0.276616\n",
      "2    0.245248\n",
      "3    0.178580\n",
      "4    0.162806\n",
      "5    0.136749\n",
      "Name: Sentiment, dtype: float64\n"
     ]
    }
   ],
   "source": [
    "sentiment_encode= {'Positive':1, 'Negative':2, 'Neutral':3,\n",
    "                   'Extremely Positive':4, 'Extremely Negative':5}\n",
    "y = df.Sentiment.replace(sentiment_encode)\n",
    "print(y.value_counts(normalize=True))"
   ]
  },
  {
   "cell_type": "code",
   "execution_count": 6,
   "id": "bc13c95c",
   "metadata": {},
   "outputs": [],
   "source": [
    "from sklearn.model_selection import train_test_split\n",
    "from sklearn.pipeline import Pipeline\n",
    "from sklearn.ensemble import GradientBoostingClassifier\n",
    "from sklearn.model_selection import GridSearchCV\n",
    "from sklearn.feature_extraction.text import TfidfVectorizer\n",
    "\n",
    "tweet_train, tweet_test, y_train, y_test = train_test_split(df.Tweet_filtered, y, test_size=.2, \n",
    "                                                                stratify=y, random_state=123)"
   ]
  },
  {
   "cell_type": "code",
   "execution_count": 9,
   "id": "ccab552a",
   "metadata": {},
   "outputs": [
    {
     "name": "stdout",
     "output_type": "stream",
     "text": [
      "{'gbc__max_depth': 10, 'tfidf__ngram_range': [1, 1]}\n",
      "0.52\n"
     ]
    }
   ],
   "source": [
    "pipe_gbc = Pipeline([\n",
    "    ('tfidf', TfidfVectorizer(min_df=10, max_df=.3)),\n",
    "    ('gbc', GradientBoostingClassifier(n_estimators=200))\n",
    "])\n",
    "\n",
    "param_grid = {'tfidf__ngram_range':[[1,1], [1,2]],\n",
    "              'gbc__max_depth':[2, 10]}\n",
    "\n",
    "gs_pipe_gbc = GridSearchCV(pipe_gbc, param_grid, cv=3, n_jobs=-1).fit(tweet_train, y_train)\n",
    "print(gs_pipe_gbc.best_params_)\n",
    "print(gs_pipe_gbc.best_score_.round(2))"
   ]
  },
  {
   "cell_type": "code",
   "execution_count": 20,
   "id": "dbc52451",
   "metadata": {},
   "outputs": [
    {
     "name": "stdout",
     "output_type": "stream",
     "text": [
      "{'gbc__max_depth': 10, 'tfidf__ngram_range': [1, 1]}\n",
      "0.52\n"
     ]
    }
   ],
   "source": [
    "from lightgbm import LGBMClassifier\n",
    "\n",
    "pipe_lgbc = Pipeline([\n",
    "    ('tfidf', TfidfVectorizer(min_df=10, max_df=.3)),\n",
    "    ('lgbc', LGBMClassifier(n_estimators=400))\n",
    "])\n",
    "\n",
    "param_grid_lgbc = {'tfidf__ngram_range':[[1,1], [1,2]],\n",
    "              'lgbc__max_depth':[2, 10, 20]}\n",
    "\n",
    "gs_pipe_lgbc = GridSearchCV(pipe_lgbc, param_grid_lgbc, cv=3, n_jobs=-1).fit(tweet_train, y_train)\n",
    "print(gs_pipe_gbc.best_params_)\n",
    "print(gs_pipe_gbc.best_score_.round(2))"
   ]
  }
 ],
 "metadata": {
  "kernelspec": {
   "display_name": "Python 3 (ipykernel)",
   "language": "python",
   "name": "python3"
  },
  "language_info": {
   "codemirror_mode": {
    "name": "ipython",
    "version": 3
   },
   "file_extension": ".py",
   "mimetype": "text/x-python",
   "name": "python",
   "nbconvert_exporter": "python",
   "pygments_lexer": "ipython3",
   "version": "3.9.9"
  }
 },
 "nbformat": 4,
 "nbformat_minor": 5
}
